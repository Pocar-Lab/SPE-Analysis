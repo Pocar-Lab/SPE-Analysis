{
 "cells": [
  {
   "cell_type": "code",
   "execution_count": 1,
   "metadata": {},
   "outputs": [],
   "source": [
    "import importlib\n",
    "import sys\n",
    "import numpy as np\n",
    "from MeasurementInfo import MeasurementInfo #class for inputting measurement info\n",
    "from RunInfo import RunInfo #class for inputting run info. Also contains most of the useful code\n",
    "import heapq\n",
    "from scipy import signal\n",
    "from scipy.optimize import curve_fit\n",
    "import AnalyzePDE\n",
    "from AnalyzePDE import SPE_data\n",
    "%matplotlib qt\n",
    "import matplotlib.pyplot as plt\n",
    "import matplotlib as mpl\n",
    "import ProcessWaveforms_MultiGaussian\n",
    "from ProcessWaveforms_MultiGaussian import WaveformProcessor as WaveformProcessor\n",
    "#from AnalyzePDE import Alpha_data"
   ]
  },
  {
   "cell_type": "markdown",
   "metadata": {},
   "source": [
    "## 192K data first"
   ]
  },
  {
   "cell_type": "code",
   "execution_count": null,
   "metadata": {},
   "outputs": [],
   "source": [
    "proms = [0.0018,0.002,0.0033,0.0033,0.0035]#0.002,0.00088,0.0026,0.0026,0.0035\n",
    "upperlim = [0.35,0.35,0.35,0.35,0.35]"
   ]
  },
  {
   "cell_type": "code",
   "execution_count": 2,
   "metadata": {},
   "outputs": [],
   "source": [
    "###Post IV Data 192 K\n",
    "run_spe_solicited = RunInfo(['Run_1658220019.hdf5'], specifyAcquisition= True, acquisition = 'Acquisition_1658220161', do_filter = True, upper_limit=0.5,baseline_correct=True,is_solicit = True)\n",
    "parent7 = ['Run_1658228893.hdf5']\n",
    "file7 = 'Acquisition_1658228975' # 31.7 Post IV\n",
    "parent8 = ['Run_1658229202.hdf5']\n",
    "file8 = 'Acquisition_1658229218' #33.7 post IV\n",
    "parent9=['Run_1658229455.hdf5']\n",
    "file9 = 'Acquisition_1658229480' #34.7 Post IV\n",
    "parent10=['Run_1658230053.hdf5']\n",
    "file10 = 'Acquisition_1658230076' #35.7 Post IV\n",
    "parent11 = ['Run_1658230333.hdf5']\n",
    "file11 = 'Acquisition_1658230344' #32.7 Post IV\n",
    "filespost = [file7,file8,file9,file10,file11]\n",
    "parentspost = [parent7,parent8,parent9,parent10,parent11]\n",
    "runspost = []\n",
    "for i in range(len(filespost)):\n",
    "    run_spe_post = RunInfo(parentspost[i],specifyAcquisition=True,acquisition = filespost[i],do_filter = True,upper_limit=upperlim[i],baseline_correct=True,prominence=proms[i])\n",
    "    runspost.append(run_spe_post)"
   ]
  },
  {
   "cell_type": "code",
   "execution_count": null,
   "metadata": {},
   "outputs": [],
   "source": [
    "#run_spe_solicited = RunInfo(['Run_1658220019.hdf5'], specifyAcquisition= True, acquisition = 'Acquisition_1658220161', do_filter = True, upper_limit=0.5,baseline_correct=True,is_solicit = True)\n",
    "parent1 = ['Run_1658218686.hdf5']\n",
    "file1 = 'Acquisition_1658218999' #32.7 V GXe\n",
    "parent2 = ['Run_1658219411.hdf5']\n",
    "file2 = 'Acquisition_1658219456' #31.7 V GXe\n",
    "parent3 = ['Run_1658219616.hdf5']\n",
    "file3 = 'Acquisition_1658219624' #31.7 V Gxe\n",
    "parent4 = ['Run_1658220709.hdf5']\n",
    "file4 = 'Acquisition_1658220750'#34.7 V Gxe\n",
    "parent5 = ['Run_1658221078.hdf5'] \n",
    "file5 = 'Acquisition_1658221117' #33.7 V Gxe\n",
    "#parent6 = ['Run_1658221468.hdf5']\n",
    "#file6 = 'Acquisition_1658221483' #35.7 V\n",
    "files = [file1,file2,file3,file4,file5]\n",
    "parents = [parent1,parent2,parent3,parent4,parent5]\n",
    "proms = [.0025,.001,.0025,.005,.005] #.01,.005,.005,.01,.01\n",
    "upperlims=[0.35,0.35,0.35,0.34,0.35]\n",
    "runs = []\n",
    "for i in range(len(files)):\n",
    "    run_spe = RunInfo(parents[i],specifyAcquisition=True,acquisition = files[i],do_filter = True,upper_limit=upperlims[i],baseline_correct=True,prominence=proms[i])\n",
    "    runs.append(run_spe)\n",
    "baises = [run.bias for run in runs]"
   ]
  },
  {
   "cell_type": "code",
   "execution_count": 3,
   "metadata": {},
   "outputs": [
    {
     "ename": "NameError",
     "evalue": "name 'runs' is not defined",
     "output_type": "error",
     "traceback": [
      "\u001b[1;31m---------------------------------------------------------------------------\u001b[0m",
      "\u001b[1;31mNameError\u001b[0m                                 Traceback (most recent call last)",
      "\u001b[1;32m<ipython-input-3-098b85a8cf57>\u001b[0m in \u001b[0;36m<module>\u001b[1;34m\u001b[0m\n\u001b[0;32m      1\u001b[0m \u001b[1;31m#run_spe0.plot_hists('190','.')\u001b[0m\u001b[1;33m\u001b[0m\u001b[1;33m\u001b[0m\u001b[1;33m\u001b[0m\u001b[0m\n\u001b[1;32m----> 2\u001b[1;33m \u001b[1;32mfor\u001b[0m \u001b[0mrun\u001b[0m \u001b[1;32min\u001b[0m \u001b[0mruns\u001b[0m\u001b[1;33m:\u001b[0m\u001b[1;33m\u001b[0m\u001b[1;33m\u001b[0m\u001b[0m\n\u001b[0m\u001b[0;32m      3\u001b[0m     \u001b[0mruns\u001b[0m\u001b[1;33m.\u001b[0m\u001b[0mplot_hists\u001b[0m\u001b[1;33m(\u001b[0m\u001b[1;34m'190'\u001b[0m\u001b[1;33m,\u001b[0m\u001b[1;34m'.'\u001b[0m\u001b[1;33m,\u001b[0m\u001b[0mnew\u001b[0m \u001b[1;33m=\u001b[0m \u001b[1;32mTrue\u001b[0m\u001b[1;33m)\u001b[0m\u001b[1;33m\u001b[0m\u001b[1;33m\u001b[0m\u001b[0m\n\u001b[0;32m      4\u001b[0m \u001b[0mbiases\u001b[0m\u001b[1;33m=\u001b[0m\u001b[1;33m[\u001b[0m\u001b[0mrun\u001b[0m\u001b[1;33m.\u001b[0m\u001b[0mbias\u001b[0m \u001b[1;32mfor\u001b[0m \u001b[0mrun\u001b[0m \u001b[1;32min\u001b[0m \u001b[0mruns\u001b[0m\u001b[1;33m]\u001b[0m\u001b[1;33m\u001b[0m\u001b[1;33m\u001b[0m\u001b[0m\n\u001b[0;32m      5\u001b[0m \u001b[1;31m#biases =run_spe4.bias\u001b[0m\u001b[1;33m\u001b[0m\u001b[1;33m\u001b[0m\u001b[1;33m\u001b[0m\u001b[0m\n",
      "\u001b[1;31mNameError\u001b[0m: name 'runs' is not defined"
     ]
    }
   ],
   "source": [
    "run_spe_solicited.plot_hists('192','.',new=True)"
   ]
  },
  {
   "cell_type": "code",
   "execution_count": null,
   "metadata": {},
   "outputs": [],
   "source": [
    "RunInfo(['Run_1658220019.hdf5'],do_filter=False,upper_limit = 1,baseline_correct=True,plot_waveforms=True,fourier=False)"
   ]
  },
  {
   "cell_type": "code",
   "execution_count": null,
   "metadata": {},
   "outputs": [],
   "source": [
    "for run in runspost:\n",
    "    run.plot_hists('192','.',new=True)"
   ]
  },
  {
   "cell_type": "code",
   "execution_count": null,
   "metadata": {},
   "outputs": [],
   "source": [
    "lower=[0.00416,0.00555,0.00587,0.006453,0.00409]\n",
    "center=[0.00597,0.0091,0.01074,0.01147,0.00779]\n",
    "high = [lower[i]+4*center[i] for i in range(len(lower))]\n",
    "biases = [run.bias for run in runspost]\n",
    "a_guess = 0.01674\n",
    "b_guess = -0.4598\n",
    "n=2\n",
    "T=192\n",
    "con = 'GXe'\n",
    "info_spe=MeasurementInfo()\n",
    "info_spe.condition=con\n",
    "info_spe.date=runspost[n].date.decode('utf-8')\n",
    "info_spe.temperature=T\n",
    "info_spe.bias = biases[n]\n",
    "info_spe.baseline_numbins=50\n",
    "info_spe.peaks_numbins=150\n",
    "info_spe.data_type='h5'\n",
    "wp=WaveformProcessor(info_spe,run_info_self=runspost[n],run_info_solicit=run_spe_solicited,baseline_correct=True,range_low=lower[n],range_high=high[n],center = center[n])\n",
    "wp.process(do_spe=True,do_alpha=False)\n",
    "wp.plot_both_histograms()\n",
    "wp.plot_peak_histograms()\n",
    "wp.plot_spe()"
   ]
  },
  {
   "cell_type": "code",
   "execution_count": null,
   "metadata": {},
   "outputs": [],
   "source": [
    "campaign_spe=[]\n",
    "for i in range(len(lower)):\n",
    "    if i == 0:\n",
    "        continue\n",
    "    T=192\n",
    "    con='GXe'\n",
    "    info_spe=MeasurementInfo()\n",
    "    info_spe.condition=con\n",
    "    info_spe.date=runspost[i].date.decode('utf-8')\n",
    "    info_spe.temperature=T\n",
    "    info_spe.bias = biases[i]\n",
    "    info_spe.baseline_numbins=50\n",
    "    info_spe.peaks_numbins=150\n",
    "    info_spe.data_type='h5'\n",
    "    wp_spe = WaveformProcessor(info_spe,run_info_self=runspost[i],run_info_solicit=run_spe_solicited,baseline_correct=True,range_low=lower[i],range_high = high[i],center = center[i])\n",
    "    wp_spe.process(do_spe=True,do_alpha=False)\n",
    "    campaign_spe.append(wp_spe)"
   ]
  },
  {
   "cell_type": "code",
   "execution_count": null,
   "metadata": {},
   "outputs": [],
   "source": [
    "for i in range(len(campaign_spe)):\n",
    "    campaign_spe[i].plot_peak_histograms()"
   ]
  },
  {
   "cell_type": "code",
   "execution_count": null,
   "metadata": {},
   "outputs": [],
   "source": [
    "#check CA\n",
    "for i in range(len(campaign_spe)):\n",
    "    print('bias: ' + str(biases[i]) + '; ' + str(campaign_spe[i].get_CA()))"
   ]
  },
  {
   "cell_type": "code",
   "execution_count": null,
   "metadata": {},
   "outputs": [],
   "source": [
    "invC_spe_filter = 0.01957644114341406 \n",
    "invC_spe_err_filter = 8.880858907807588e-05"
   ]
  },
  {
   "cell_type": "code",
   "execution_count": null,
   "metadata": {},
   "outputs": [],
   "source": [
    "curr_campaign=campaign_spe\n",
    "filtered_spe = SPE_data(curr_campaign,invC_spe_filter,invC_spe_err_filter,filtered =True)\n",
    "filtered_spe.plot_spe(in_ov=False,absolute=False,out_file=None)\n",
    "print(filtered_spe.v_bd)\n",
    "print(filtered_spe.v_bd_err)"
   ]
  },
  {
   "cell_type": "code",
   "execution_count": null,
   "metadata": {},
   "outputs": [],
   "source": [
    "filtered_spe.plot_spe(in_ov = True, absolute = True, out_file = None)"
   ]
  },
  {
   "cell_type": "code",
   "execution_count": null,
   "metadata": {},
   "outputs": [],
   "source": [
    "filtered_spe.plot_CA()"
   ]
  },
  {
   "cell_type": "markdown",
   "metadata": {},
   "source": [
    "## 193K data"
   ]
  },
  {
   "cell_type": "code",
   "execution_count": null,
   "metadata": {},
   "outputs": [],
   "source": [
    "#193K\n",
    "parent8 = ['Run_1658251531.hdf5'] #34.7 V\n",
    "file8 = 'Acquisition_1658251572'\n",
    "parent9 = ['Run_1658251787.hdf5'] #32.7 V\n",
    "file9 = 'Acquisition_1658251806'\n",
    "parent10 = ['Run_1658252031.hdf5'] #33.7 V\n",
    "file10 = 'Acquisition_1658252056'\n",
    "parent11 = ['Run_1658252273.hdf5'] #31.7 V\n",
    "file11 = 'Acquisition_1658252310'\n",
    "parent12 = ['Run_1658252479.hdf5'] #35.7 V\n",
    "file12 = 'Acquisition_1658252531' #this last acquisition looks funky\n",
    "parents193 = [parent8,parent9,parent10,parent11,parent12]\n",
    "files193 = [file8,file9,file10,file11,file12]"
   ]
  },
  {
   "cell_type": "code",
   "execution_count": null,
   "metadata": {},
   "outputs": [],
   "source": [
    "run_spe_solicited = RunInfo(['Run_1658220019.hdf5'], specifyAcquisition= True, acquisition = 'Acquisition_1658220161', do_filter = True, upper_limit=0.5,baseline_correct=True,is_solicit = True)"
   ]
  },
  {
   "cell_type": "code",
   "execution_count": null,
   "metadata": {},
   "outputs": [],
   "source": [
    "upperlimits193 = [0.3,0.3,0.3,0.3,0.35]"
   ]
  },
  {
   "cell_type": "code",
   "execution_count": null,
   "metadata": {},
   "outputs": [],
   "source": [
    "RunInfo(parents193[4],do_filter=False,upper_limit=upperlimits193[4],baseline_correct=False,plot_waveforms=True,fourier=False)"
   ]
  },
  {
   "cell_type": "code",
   "execution_count": null,
   "metadata": {},
   "outputs": [],
   "source": [
    "proms193 = [0.0018,0.002,0.0033,0.002,0.0035]\n",
    "runs193=[]\n",
    "for i in range(len(files193)):\n",
    "    run_spe_193=RunInfo(parents193[i],specifyAcquisition=True,acquisition=files193[i],do_filter = True,upper_limit=upperlimits193[i],baseline_correct=True,prominence=proms193[i])\n",
    "    runs193.append(run_spe_193)"
   ]
  },
  {
   "cell_type": "code",
   "execution_count": null,
   "metadata": {},
   "outputs": [],
   "source": [
    "for run in runs193:\n",
    "    run.plot_hists('193','.',new =True)"
   ]
  },
  {
   "cell_type": "code",
   "execution_count": null,
   "metadata": {},
   "outputs": [],
   "source": [
    "biases = [run.bias for run in runs193]"
   ]
  },
  {
   "cell_type": "code",
   "execution_count": null,
   "metadata": {},
   "outputs": [],
   "source": [
    "rangelows = [0.005679,0.0048,0.00594,0.00353,0.00569]\n",
    "centers = [0.01,0.0073,0.00918,0.0061,0.01171]\n",
    "rangehighs = [rangelows[i]+4*centers[i] for i in range(len(rangelows))]\n",
    "n=1\n",
    "T = 193\n",
    "con = 'GXe'\n",
    "info_spe = MeasurementInfo()\n",
    "info_spe.condition = con\n",
    "info_spe.date=runs193[n].date.decode('utf-8')\n",
    "info_spe.temperature=T\n",
    "info_spe.bias = biases[n]\n",
    "info_spe.baseline_numbins = 150\n",
    "info_spe.peaks_numbins=150\n",
    "info_spe.data_type='h5'\n",
    "wp = WaveformProcessor(info_spe,run_info_self=runs193[n],run_info_solicit=run_spe_solicited,baseline_correct=True,range_low=rangelows[n],range_high=rangehighs[n],center = centers[n])\n",
    "wp.process(do_spe=True,do_alpha=False)\n",
    "wp.plot_both_histograms()\n",
    "wp.plot_peak_histograms()\n",
    "wp.plot_spe()"
   ]
  },
  {
   "cell_type": "code",
   "execution_count": null,
   "metadata": {},
   "outputs": [],
   "source": [
    "campaign_spe=[]\n",
    "for i in range(len(runs193)):\n",
    "    if i == 3:\n",
    "        continue\n",
    "    if i ==4:\n",
    "        continue\n",
    "    T=193\n",
    "    con = 'GXe'\n",
    "    info_spe = MeasurementInfo()\n",
    "    info_spe.condition=con\n",
    "    info_spe.date=runs193[i].date.decode('utf-8')\n",
    "    info_spe.temperature = T\n",
    "    info_spe.bias = biases[i]\n",
    "    info_spe.baseline_numbins=50\n",
    "    info_spe.peaks_numbins=150\n",
    "    info_spe.data_type='h5'\n",
    "    wp_spe = WaveformProcessor(info_spe,run_info_self=runs193[i],run_info_solicit=run_spe_solicited,baseline_correct=True,range_low=rangelows[i],range_high=rangehighs[i],center=centers[i])\n",
    "    wp_spe.process(do_spe=True,do_alpha=False)\n",
    "    wp_spe.plot_spe()\n",
    "    campaign_spe.append(wp_spe)"
   ]
  },
  {
   "cell_type": "code",
   "execution_count": null,
   "metadata": {},
   "outputs": [],
   "source": [
    "for i in range(len(campaign_spe)):\n",
    "    campaign_spe[i].plot_peak_histograms()"
   ]
  },
  {
   "cell_type": "code",
   "execution_count": null,
   "metadata": {},
   "outputs": [],
   "source": [
    "#check CA\n",
    "for i in range(len(campaign_spe)):\n",
    "    print('bias: ' + str(biases[i]) + '; ' + str(campaign_spe[i].get_CA()))"
   ]
  },
  {
   "cell_type": "code",
   "execution_count": null,
   "metadata": {},
   "outputs": [],
   "source": [
    "invC_spe_filter = 0.01957644114341406 \n",
    "invC_spe_err_filter = 8.880858907807588e-05"
   ]
  },
  {
   "cell_type": "code",
   "execution_count": null,
   "metadata": {},
   "outputs": [],
   "source": [
    "curr_campaign =campaign_spe\n",
    "filtered_spe = SPE_data(curr_campaign,invC_spe_filter,invC_spe_err_filter,filtered=True)\n",
    "filtered_spe.plot_spe(in_ov=False,absolute = False,out_file = None)\n",
    "print(filtered_spe.v_bd)\n",
    "print(filtered_spe.v_bd_err)"
   ]
  },
  {
   "cell_type": "code",
   "execution_count": null,
   "metadata": {},
   "outputs": [],
   "source": [
    "filtered_spe.plot_spe(in_ov = True, absolute = True, out_file = None)"
   ]
  }
 ],
 "metadata": {
  "kernelspec": {
   "display_name": "base",
   "language": "python",
   "name": "python3"
  },
  "language_info": {
   "codemirror_mode": {
    "name": "ipython",
    "version": 3
   },
   "file_extension": ".py",
   "mimetype": "text/x-python",
   "name": "python",
   "nbconvert_exporter": "python",
   "pygments_lexer": "ipython3",
   "version": "3.8.8"
  },
  "orig_nbformat": 4
 },
 "nbformat": 4,
 "nbformat_minor": 2
}
